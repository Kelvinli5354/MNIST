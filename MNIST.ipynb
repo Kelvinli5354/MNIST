{
 "cells": [
  {
   "cell_type": "code",
   "execution_count": 4,
   "metadata": {},
   "outputs": [],
   "source": [
    "import os\n",
    "import cv2\n",
    "import numpy as np\n",
    "import matplotlib.pyplot as plt\n",
    "\n",
    "from sklearn.utils import shuffle\n",
    "from sklearn.model_selection import train_test_split\n",
    "\n",
    "from keras import backend as K\n",
    "K.set_image_dim_ordering('tf')\n",
    "\n",
    "from keras.utils import np_utils\n",
    "from keras.models import Sequential\n",
    "from keras.layers.core import Dense, Dropout, Activation, Flatten\n",
    "from keras.layers.convolutional import Convolution2D, MaxPooling2D\n",
    "from keras.layers.normalization import BatchNormalization\n",
    "from keras.optimizers import SGD, RMSprop, Adam"
   ]
  },
  {
   "cell_type": "code",
   "execution_count": 4,
   "metadata": {},
   "outputs": [],
   "source": [
    "img_rows = 28\n",
    "img_cols = 28\n",
    "num_channel = 1"
   ]
  },
  {
   "cell_type": "code",
   "execution_count": 8,
   "metadata": {},
   "outputs": [
    {
     "name": "stdout",
     "output_type": "stream",
     "text": [
      "C:\\Users\\Kelfun\\Convolutional Image Classification\n"
     ]
    },
    {
     "data": {
      "text/plain": [
       "['0', '1', '2', '3', '4', '5', '6', '7', '8', '9']"
      ]
     },
     "execution_count": 8,
     "metadata": {},
     "output_type": "execute_result"
    }
   ],
   "source": [
    "PATH = os.getcwd() # get current working directory\n",
    "print(PATH)\n",
    "data_path = PATH + '/training'  #gets the folder containing all the number folders\n",
    "data_dir_list = os.listdir(data_path)\n",
    "\n",
    "data_dir_list"
   ]
  },
  {
   "cell_type": "markdown",
   "metadata": {},
   "source": [
    "# Loading the images in from our directory"
   ]
  },
  {
   "cell_type": "code",
   "execution_count": 19,
   "metadata": {},
   "outputs": [
    {
     "name": "stdout",
     "output_type": "stream",
     "text": [
      "Loading the images of dataset-0\n",
      "\n",
      "Loading the images of dataset-1\n",
      "\n",
      "Loading the images of dataset-2\n",
      "\n",
      "Loading the images of dataset-3\n",
      "\n",
      "Loading the images of dataset-4\n",
      "\n",
      "Loading the images of dataset-5\n",
      "\n",
      "Loading the images of dataset-6\n",
      "\n",
      "Loading the images of dataset-7\n",
      "\n",
      "Loading the images of dataset-8\n",
      "\n",
      "Loading the images of dataset-9\n",
      "\n"
     ]
    }
   ],
   "source": [
    "num_classes = 10\n",
    "\n",
    "labels_name = {'0': 0, '1': 1, '2': 2, '3': 3, '4': 4, '5': 5, '6': 6, '7': 7, '8': 8, '9': 9}\n",
    "\n",
    "\n",
    "img_data_list = []\n",
    "labels_list = []\n",
    "\n",
    "for numbers in data_dir_list:\n",
    "    img_list = os.listdir(data_path + '/' + numbers)\n",
    "    print('Loading the images of dataset-' + '{}\\n'.format(numbers))\n",
    "    label = labels_name[numbers]\n",
    "    for img in img_list:\n",
    "        input_img = cv2.imread(data_path + '/' + numbers + '/' + img)\n",
    "        input_img = cv2.cvtColor(input_img, cv2.COLOR_BGR2GRAY)\n",
    "        input_img_resize = cv2.resize(input_img, (img_rows,img_cols))\n",
    "        img_data_list.append(input_img_resize)\n",
    "        labels_list.append(label)"
   ]
  },
  {
   "cell_type": "code",
   "execution_count": 20,
   "metadata": {},
   "outputs": [
    {
     "name": "stdout",
     "output_type": "stream",
     "text": [
      "(60000, 28, 28)\n"
     ]
    }
   ],
   "source": [
    "img_data = np.array(img_data_list)\n",
    "\n",
    "img_data = img_data.astype('float32')\n",
    "\n",
    "img_data /= 255\n",
    "\n",
    "print(img_data.shape) # training set of 60k and testing set of 10k"
   ]
  },
  {
   "cell_type": "markdown",
   "metadata": {},
   "source": [
    "## Setting the dimensions into (# of images, row_size,col_size,# of color_channel)"
   ]
  },
  {
   "cell_type": "code",
   "execution_count": 33,
   "metadata": {},
   "outputs": [
    {
     "name": "stdout",
     "output_type": "stream",
     "text": [
      "(60000, 28, 28, 1)\n"
     ]
    },
    {
     "name": "stderr",
     "output_type": "stream",
     "text": [
      "C:\\Users\\Kelfun\\Anaconda3\\envs\\tf15\\lib\\site-packages\\ipykernel_launcher.py:6: DeprecationWarning: Both axis > a.ndim and axis < -a.ndim - 1 are deprecated and will raise an AxisError in the future.\n",
      "  \n"
     ]
    }
   ],
   "source": [
    "if num_channel == 1:\n",
    "    if K.image_dim_ordering() == 'th':\n",
    "        img_data = np.expand_dims(img_data, axis=1)\n",
    "        print(img_data.shape)\n",
    "    else:\n",
    "        img_data = np.expand_dims(img_data, axis=4)\n",
    "        print(img_data.shape)\n",
    "\n",
    "else:\n",
    "    if K.image_dim_ordering() == 'th':\n",
    "        img_data = np.rollaxis(img_data, 3, 1)\n",
    "        print(img_data.shape)\n",
    "        \n",
    "# it's 60k images, 28 row pixels, 28 column pixels, 1 color channel(gray-scale))"
   ]
  },
  {
   "cell_type": "code",
   "execution_count": 28,
   "metadata": {},
   "outputs": [
    {
     "name": "stdout",
     "output_type": "stream",
     "text": [
      "(array([0, 1, 2, 3, 4, 5, 6, 7, 8, 9]), array([5923, 6742, 5958, 6131, 5842, 5421, 5918, 6265, 5851, 5949],\n",
      "      dtype=int64))\n"
     ]
    }
   ],
   "source": [
    "np.set_printoptions(threshold= np.nan) # prints nontruncated outputs\n",
    "labels = np.array(labels_list)\n",
    "\n",
    "print(np.unique(labels, return_counts = True))"
   ]
  },
  {
   "cell_type": "code",
   "execution_count": 32,
   "metadata": {},
   "outputs": [],
   "source": [
    "Y = np_utils.to_categorical(labels, num_classes) # One hot encoded the labels"
   ]
  },
  {
   "cell_type": "code",
   "execution_count": 34,
   "metadata": {},
   "outputs": [],
   "source": [
    "x, y = shuffle(img_data, Y, random_state=2)"
   ]
  },
  {
   "cell_type": "code",
   "execution_count": 35,
   "metadata": {},
   "outputs": [],
   "source": [
    "X_train, X_test, y_train, y_test = train_test_split(x, y, test_size = 0.2, random_state = 12)"
   ]
  },
  {
   "cell_type": "markdown",
   "metadata": {},
   "source": [
    "# Training the model using a Convolutional Network\n",
    "\n",
    "### A total of 28 layers used"
   ]
  },
  {
   "cell_type": "code",
   "execution_count": 44,
   "metadata": {},
   "outputs": [],
   "source": [
    "model = Sequential()\n",
    "\n",
    "model.add(Convolution2D(32, (3,3), padding = 'same', input_shape = input_shape))\n",
    "model.add(Activation(\"relu\"))\n",
    "model.add(BatchNormalization(axis = -1))\n",
    "model.add(MaxPooling2D(pool_size = (3, 3)))\n",
    "model.add(Dropout(0.25))\n",
    "\n",
    "model.add(Convolution2D(64, (3, 3), padding =\"same\"))\n",
    "model.add(Activation(\"relu\"))\n",
    "model.add(BatchNormalization(axis = -1))\n",
    "model.add(Convolution2D(64, (3, 3), padding = \"same\"))\n",
    "model.add(Activation(\"relu\"))\n",
    "model.add(BatchNormalization(axis = -1))\n",
    "model.add(MaxPooling2D(pool_size = (2, 2)))\n",
    "model.add(Dropout(0.25))\n",
    "\n",
    "model.add(Convolution2D(128, (3, 3), padding = \"same\"))\n",
    "model.add(Activation(\"relu\"))\n",
    "model.add(BatchNormalization(axis = -1))\n",
    "model.add(Convolution2D(128, (3, 3), padding = \"same\"))\n",
    "model.add(Activation(\"relu\"))\n",
    "model.add(BatchNormalization(axis = -1))\n",
    "model.add(MaxPooling2D(pool_size = (2, 2)))\n",
    "model.add(Dropout(0.25))\n",
    "\n",
    "model.add(Flatten())\n",
    "model.add(Dense(1024))\n",
    "model.add(Activation(\"relu\"))\n",
    "model.add(BatchNormalization())\n",
    "model.add(Dropout(0.5))\n",
    "\n",
    "model.add(Dense(num_classes))\n",
    "model.add(Activation(\"softmax\"))\n",
    "\n",
    "\n",
    "model.compile(Adam(lr = 0.0001), loss = 'categorical_crossentropy', metrics = [\"accuracy\"])\n"
   ]
  },
  {
   "cell_type": "code",
   "execution_count": 45,
   "metadata": {},
   "outputs": [
    {
     "name": "stdout",
     "output_type": "stream",
     "text": [
      "_________________________________________________________________\n",
      "Layer (type)                 Output Shape              Param #   \n",
      "=================================================================\n",
      "conv2d_7 (Conv2D)            (None, 28, 28, 32)        320       \n",
      "_________________________________________________________________\n",
      "activation_9 (Activation)    (None, 28, 28, 32)        0         \n",
      "_________________________________________________________________\n",
      "batch_normalization_7 (Batch (None, 28, 28, 32)        128       \n",
      "_________________________________________________________________\n",
      "max_pooling2d_4 (MaxPooling2 (None, 9, 9, 32)          0         \n",
      "_________________________________________________________________\n",
      "dropout_5 (Dropout)          (None, 9, 9, 32)          0         \n",
      "_________________________________________________________________\n",
      "conv2d_8 (Conv2D)            (None, 9, 9, 64)          18496     \n",
      "_________________________________________________________________\n",
      "activation_10 (Activation)   (None, 9, 9, 64)          0         \n",
      "_________________________________________________________________\n",
      "batch_normalization_8 (Batch (None, 9, 9, 64)          256       \n",
      "_________________________________________________________________\n",
      "conv2d_9 (Conv2D)            (None, 9, 9, 64)          36928     \n",
      "_________________________________________________________________\n",
      "activation_11 (Activation)   (None, 9, 9, 64)          0         \n",
      "_________________________________________________________________\n",
      "batch_normalization_9 (Batch (None, 9, 9, 64)          256       \n",
      "_________________________________________________________________\n",
      "max_pooling2d_5 (MaxPooling2 (None, 4, 4, 64)          0         \n",
      "_________________________________________________________________\n",
      "dropout_6 (Dropout)          (None, 4, 4, 64)          0         \n",
      "_________________________________________________________________\n",
      "conv2d_10 (Conv2D)           (None, 4, 4, 128)         73856     \n",
      "_________________________________________________________________\n",
      "activation_12 (Activation)   (None, 4, 4, 128)         0         \n",
      "_________________________________________________________________\n",
      "batch_normalization_10 (Batc (None, 4, 4, 128)         512       \n",
      "_________________________________________________________________\n",
      "conv2d_11 (Conv2D)           (None, 4, 4, 128)         147584    \n",
      "_________________________________________________________________\n",
      "activation_13 (Activation)   (None, 4, 4, 128)         0         \n",
      "_________________________________________________________________\n",
      "batch_normalization_11 (Batc (None, 4, 4, 128)         512       \n",
      "_________________________________________________________________\n",
      "max_pooling2d_6 (MaxPooling2 (None, 2, 2, 128)         0         \n",
      "_________________________________________________________________\n",
      "dropout_7 (Dropout)          (None, 2, 2, 128)         0         \n",
      "_________________________________________________________________\n",
      "flatten_2 (Flatten)          (None, 512)               0         \n",
      "_________________________________________________________________\n",
      "dense_3 (Dense)              (None, 1024)              525312    \n",
      "_________________________________________________________________\n",
      "activation_14 (Activation)   (None, 1024)              0         \n",
      "_________________________________________________________________\n",
      "batch_normalization_12 (Batc (None, 1024)              4096      \n",
      "_________________________________________________________________\n",
      "dropout_8 (Dropout)          (None, 1024)              0         \n",
      "_________________________________________________________________\n",
      "dense_4 (Dense)              (None, 10)                10250     \n",
      "_________________________________________________________________\n",
      "activation_15 (Activation)   (None, 10)                0         \n",
      "=================================================================\n",
      "Total params: 818,506\n",
      "Trainable params: 815,626\n",
      "Non-trainable params: 2,880\n",
      "_________________________________________________________________\n"
     ]
    }
   ],
   "source": [
    "model.summary()"
   ]
  },
  {
   "cell_type": "code",
   "execution_count": 46,
   "metadata": {},
   "outputs": [
    {
     "name": "stdout",
     "output_type": "stream",
     "text": [
      "Train on 48000 samples, validate on 12000 samples\n",
      "Epoch 1/20\n",
      "48000/48000 [==============================] - 70s 1ms/step - loss: 0.8953 - acc: 0.7309 - val_loss: 0.1363 - val_acc: 0.9593\n",
      "Epoch 2/20\n",
      "48000/48000 [==============================] - 61s 1ms/step - loss: 0.2627 - acc: 0.9199 - val_loss: 0.0911 - val_acc: 0.9745\n",
      "Epoch 3/20\n",
      "48000/48000 [==============================] - 66s 1ms/step - loss: 0.1733 - acc: 0.9480 - val_loss: 0.0686 - val_acc: 0.9818\n",
      "Epoch 4/20\n",
      "48000/48000 [==============================] - 81s 2ms/step - loss: 0.1298 - acc: 0.9606 - val_loss: 0.0547 - val_acc: 0.9833\n",
      "Epoch 5/20\n",
      "48000/48000 [==============================] - 82s 2ms/step - loss: 0.0998 - acc: 0.9695 - val_loss: 0.0476 - val_acc: 0.9874\n",
      "Epoch 6/20\n",
      "48000/48000 [==============================] - 86s 2ms/step - loss: 0.0865 - acc: 0.9743 - val_loss: 0.0432 - val_acc: 0.9870\n",
      "Epoch 7/20\n",
      "48000/48000 [==============================] - 87s 2ms/step - loss: 0.0717 - acc: 0.9776 - val_loss: 0.0420 - val_acc: 0.9882\n",
      "Epoch 8/20\n",
      "48000/48000 [==============================] - 89s 2ms/step - loss: 0.0671 - acc: 0.9787 - val_loss: 0.0389 - val_acc: 0.9890\n",
      "Epoch 9/20\n",
      "48000/48000 [==============================] - 88s 2ms/step - loss: 0.0566 - acc: 0.9822 - val_loss: 0.0319 - val_acc: 0.9908\n",
      "Epoch 10/20\n",
      "48000/48000 [==============================] - 90s 2ms/step - loss: 0.0499 - acc: 0.9842 - val_loss: 0.0301 - val_acc: 0.9917\n",
      "Epoch 11/20\n",
      "48000/48000 [==============================] - 90s 2ms/step - loss: 0.0450 - acc: 0.9861 - val_loss: 0.0335 - val_acc: 0.9900\n",
      "Epoch 12/20\n",
      "48000/48000 [==============================] - 90s 2ms/step - loss: 0.0436 - acc: 0.9865 - val_loss: 0.0307 - val_acc: 0.9909\n",
      "Epoch 13/20\n",
      "48000/48000 [==============================] - 91s 2ms/step - loss: 0.0389 - acc: 0.9877 - val_loss: 0.0274 - val_acc: 0.9923\n",
      "Epoch 14/20\n",
      "48000/48000 [==============================] - 90s 2ms/step - loss: 0.0379 - acc: 0.9880 - val_loss: 0.0265 - val_acc: 0.9926\n",
      "Epoch 15/20\n",
      "48000/48000 [==============================] - 92s 2ms/step - loss: 0.0340 - acc: 0.9892 - val_loss: 0.0283 - val_acc: 0.9919\n",
      "Epoch 16/20\n",
      "48000/48000 [==============================] - 93s 2ms/step - loss: 0.0329 - acc: 0.9893 - val_loss: 0.0324 - val_acc: 0.9907\n",
      "Epoch 17/20\n",
      "48000/48000 [==============================] - 96s 2ms/step - loss: 0.0301 - acc: 0.9905 - val_loss: 0.0259 - val_acc: 0.9925\n",
      "Epoch 18/20\n",
      "48000/48000 [==============================] - 93s 2ms/step - loss: 0.0282 - acc: 0.9908 - val_loss: 0.0249 - val_acc: 0.9930\n",
      "Epoch 19/20\n",
      "48000/48000 [==============================] - 94s 2ms/step - loss: 0.0272 - acc: 0.9913 - val_loss: 0.0269 - val_acc: 0.9924\n",
      "Epoch 20/20\n",
      "48000/48000 [==============================] - 93s 2ms/step - loss: 0.0244 - acc: 0.9921 - val_loss: 0.0255 - val_acc: 0.9929\n"
     ]
    }
   ],
   "source": [
    "hist = model.fit(X_train, y_train, batch_size=32, epochs=20,\n",
    "                 verbose=1, validation_data=(X_test, y_test))"
   ]
  },
  {
   "cell_type": "markdown",
   "metadata": {},
   "source": [
    "# Visualizing Accuracy"
   ]
  },
  {
   "cell_type": "code",
   "execution_count": 47,
   "metadata": {},
   "outputs": [
    {
     "data": {
      "image/png": "[encoded data removed]",
      "text/plain": [
       "<Figure size 504x360 with 1 Axes>"
      ]
     },
     "metadata": {
      "needs_background": "light"
     },
     "output_type": "display_data"
    },
    {
     "data": {
      "image/png": "[encoded data removed]",
      "text/plain": [
       "<Figure size 560x400 with 1 Axes>"
      ]
     },
     "metadata": {},
     "output_type": "display_data"
    }
   ],
   "source": [
    "train_loss = hist.history['loss']\n",
    "val_loss = hist.history['val_loss']\n",
    "train_acc = hist.history['acc']\n",
    "val_acc = hist.history['val_acc']\n",
    "xc = range(20)\n",
    "\n",
    "plt.figure(1, figsize=(7, 5))\n",
    "plt.plot(xc, train_loss)\n",
    "plt.plot(xc, val_loss)\n",
    "plt.xlabel('num of Epochs')\n",
    "plt.ylabel('loss')\n",
    "plt.title('train_loss vs val_loss')\n",
    "plt.grid(True)\n",
    "plt.legend(['train', 'val'])\n",
    "# print plt.style.available # use bmh, classic,ggplot for big pictures\n",
    "plt.style.use(['classic'])\n",
    "plt.savefig('trial_psi_loss.png', bbox_inches='tight')\n",
    "\n",
    "plt.figure(2, figsize=(7, 5))\n",
    "plt.plot(xc, train_acc)\n",
    "plt.plot(xc, val_acc)\n",
    "plt.xlabel('num of Epochs')\n",
    "plt.ylabel('accuracy')\n",
    "plt.title('train_acc vs val_acc')\n",
    "plt.grid(True)\n",
    "plt.legend(['train', 'val'], loc=4)\n",
    "# print plt.style.available # use bmh, classic,ggplot for big pictures\n",
    "plt.style.use(['classic'])\n",
    "plt.savefig('trial_psi_acc.png', bbox_inches='tight')"
   ]
  },
  {
   "cell_type": "code",
   "execution_count": 48,
   "metadata": {},
   "outputs": [
    {
     "name": "stdout",
     "output_type": "stream",
     "text": [
      "Test Loss: 0.02547844766549982\n",
      "Test accuracy: 0.9929166666666667\n"
     ]
    }
   ],
   "source": [
    "# evaluate score\n",
    "score = model.evaluate(X_test, y_test, verbose=0)\n",
    "print('Test Loss:', score[0])\n",
    "print('Test accuracy:', score[1])  # validation accuracy"
   ]
  },
  {
   "cell_type": "markdown",
   "metadata": {},
   "source": [
    "### Saving the weight and model into an hdf5 model"
   ]
  },
  {
   "cell_type": "code",
   "execution_count": 49,
   "metadata": {},
   "outputs": [],
   "source": [
    "model.save('mnist.hdf5')"
   ]
  },
  {
   "cell_type": "markdown",
   "metadata": {},
   "source": [
    "###  Load saved model"
   ]
  },
  {
   "cell_type": "code",
   "execution_count": 5,
   "metadata": {},
   "outputs": [],
   "source": [
    "from keras.models import load_model\n",
    "\n",
    "\n",
    "loaded_model = load_model('mnist.hdf5')"
   ]
  },
  {
   "cell_type": "markdown",
   "metadata": {},
   "source": [
    "### Get number of layers"
   ]
  },
  {
   "cell_type": "code",
   "execution_count": 8,
   "metadata": {},
   "outputs": [
    {
     "data": {
      "text/plain": [
       "28"
      ]
     },
     "execution_count": 8,
     "metadata": {},
     "output_type": "execute_result"
    }
   ],
   "source": [
    "len(loaded_model.layers)"
   ]
  },
  {
   "cell_type": "markdown",
   "metadata": {},
   "source": [
    "### Load in Test Set"
   ]
  },
  {
   "cell_type": "code",
   "execution_count": 9,
   "metadata": {},
   "outputs": [
    {
     "name": "stdout",
     "output_type": "stream",
     "text": [
      "C:\\Users\\Kelfun\\Convolutional Image Classification\n",
      "Loading the images of dataset-0\n",
      "\n",
      "Loading the images of dataset-1\n",
      "\n",
      "Loading the images of dataset-2\n",
      "\n",
      "Loading the images of dataset-3\n",
      "\n",
      "Loading the images of dataset-4\n",
      "\n",
      "Loading the images of dataset-5\n",
      "\n",
      "Loading the images of dataset-6\n",
      "\n",
      "Loading the images of dataset-7\n",
      "\n",
      "Loading the images of dataset-8\n",
      "\n",
      "Loading the images of dataset-9\n",
      "\n"
     ]
    }
   ],
   "source": [
    "img_rows = 28\n",
    "img_cols = 28\n",
    "num_channel = 1\n",
    "\n",
    "PATH = os.getcwd() # get current working directory\n",
    "print(PATH)\n",
    "data_path = PATH + '/testing'  #gets the folder containing all the test number folders\n",
    "data_dir_list = os.listdir(data_path)\n",
    "\n",
    "\n",
    "num_classes = 10\n",
    "\n",
    "labels_name = {'0': 0, '1': 1, '2': 2, '3': 3, '4': 4, '5': 5, '6': 6, '7': 7, '8': 8, '9': 9}\n",
    "\n",
    "\n",
    "test_img_data_list = []\n",
    "test_labels_list = []\n",
    "\n",
    "for numbers in data_dir_list:\n",
    "    img_list = os.listdir(data_path + '/' + numbers)\n",
    "    print('Loading the images of dataset-' + '{}\\n'.format(numbers))\n",
    "    label = labels_name[numbers]\n",
    "    for img in img_list:\n",
    "        input_img = cv2.imread(data_path + '/' + numbers + '/' + img)\n",
    "        input_img = cv2.cvtColor(input_img, cv2.COLOR_BGR2GRAY)\n",
    "        input_img_resize = cv2.resize(input_img, (img_rows,img_cols))\n",
    "        test_img_data_list.append(input_img_resize)\n",
    "        test_labels_list.append(label)"
   ]
  },
  {
   "cell_type": "markdown",
   "metadata": {},
   "source": [
    "# Always make sure the input dimensions of your data is the same as the x_train data used to train the model\n",
    "\n",
    "### Our model originally had 4 dimensions of input (# of images, row, column, color_channel)\n",
    "\n",
    "### Hence just apply the same steps you did to the testing data set before inputting it into the model for prediction"
   ]
  },
  {
   "cell_type": "code",
   "execution_count": 32,
   "metadata": {},
   "outputs": [
    {
     "name": "stdout",
     "output_type": "stream",
     "text": [
      "(10000, 28, 28, 1)\n"
     ]
    },
    {
     "name": "stderr",
     "output_type": "stream",
     "text": [
      "C:\\Users\\Kelfun\\Anaconda3\\envs\\tf15\\lib\\site-packages\\ipykernel_launcher.py:12: DeprecationWarning: Both axis > a.ndim and axis < -a.ndim - 1 are deprecated and will raise an AxisError in the future.\n",
      "  if sys.path[0] == '':\n"
     ]
    }
   ],
   "source": [
    "img_data = np.array(test_img_data_list)\n",
    "\n",
    "img_data = img_data.astype('float32')\n",
    "\n",
    "img_data /= 255\n",
    "\n",
    "if num_channel == 1:\n",
    "    if K.image_dim_ordering() == 'th':\n",
    "        img_data = np.expand_dims(img_data, axis=1)\n",
    "        print(img_data.shape)\n",
    "    else:\n",
    "        img_data = np.expand_dims(img_data, axis=4)\n",
    "        print(img_data.shape)\n",
    "\n",
    "else:\n",
    "    if K.image_dim_ordering() == 'th':\n",
    "        img_data = np.rollaxis(img_data, 3, 1)\n",
    "        print(img_data.shape)\n",
    "\n",
    "# Want the test img data to have the same dimensions"
   ]
  },
  {
   "cell_type": "markdown",
   "metadata": {},
   "source": [
    "## Sanity Check"
   ]
  },
  {
   "cell_type": "code",
   "execution_count": 49,
   "metadata": {},
   "outputs": [
    {
     "data": {
      "image/png": "[encoded data removed]",
      "text/plain": [
       "<Figure size 432x288 with 1 Axes>"
      ]
     },
     "metadata": {
      "needs_background": "light"
     },
     "output_type": "display_data"
    },
    {
     "name": "stdout",
     "output_type": "stream",
     "text": [
      "This should be a 2\n"
     ]
    }
   ],
   "source": [
    "plt.gray()\n",
    "\n",
    "n = 3000\n",
    "\n",
    "plt.imshow(test_img_data_list[n], interpolation='nearest')\n",
    "plt.show()\n",
    "\n",
    "print('This should be a {}'.format(test_labels_list[n]))"
   ]
  },
  {
   "cell_type": "code",
   "execution_count": 38,
   "metadata": {},
   "outputs": [],
   "source": [
    "prediction = loaded_model.predict_classes(img_data)"
   ]
  },
  {
   "cell_type": "code",
   "execution_count": 41,
   "metadata": {},
   "outputs": [
    {
     "name": "stdout",
     "output_type": "stream",
     "text": [
      "0\n",
      "0\n"
     ]
    }
   ],
   "source": [
    "np.set_printoptions(suppress=True) \n",
    "print(prediction[0])\n",
    "print(test_labels_list[0])"
   ]
  },
  {
   "cell_type": "markdown",
   "metadata": {},
   "source": [
    "# Prediction Accuracy"
   ]
  },
  {
   "cell_type": "code",
   "execution_count": 47,
   "metadata": {},
   "outputs": [
    {
     "name": "stdout",
     "output_type": "stream",
     "text": [
      "Accuracy of 99.44%\n"
     ]
    }
   ],
   "source": [
    "accuracy = sum(prediction == test_labels_list)/len(test_labels_list)\n",
    "print('Accuracy of {}%'.format(accuracy *100))\n",
    "\n",
    "# This is close enough to perfect for me but you can attempt to improve the model by playing with it's parameters."
   ]
  }
 ],
 "metadata": {
  "kernelspec": {
   "display_name": "Python 3",
   "language": "python",
   "name": "python3"
  },
  "language_info": {
   "codemirror_mode": {
    "name": "ipython",
    "version": 3
   },
   "file_extension": ".py",
   "mimetype": "text/x-python",
   "name": "python",
   "nbconvert_exporter": "python",
   "pygments_lexer": "ipython3",
   "version": "3.6.6"
  }
 },
 "nbformat": 4,
 "nbformat_minor": 2
}
